{
 "cells": [
  {
   "cell_type": "code",
   "execution_count": 1,
   "metadata": {
    "collapsed": true
   },
   "outputs": [],
   "source": [
    "from opentrons import robot, instruments, containers\n",
    "from opentrons.util import environment"
   ]
  },
  {
   "cell_type": "code",
   "execution_count": 2,
   "metadata": {
    "collapsed": true
   },
   "outputs": [],
   "source": [
    "# robot.connect(robot.get_serial_ports_list()[0])\n",
    "robot.connect('Virtual Smoothie')\n",
    "robot.reset()\n",
    "robot.home()"
   ]
  },
  {
   "cell_type": "code",
   "execution_count": 3,
   "metadata": {},
   "outputs": [
    {
     "name": "stdout",
     "output_type": "stream",
     "text": [
      "/Users/michaelbereket/Desktop/EndyLab/endy_dev/opentrons/robobench/calibration\n"
     ]
    }
   ],
   "source": [
    "data_dir = environment.get_path('APP_DATA_DIR')\n",
    "print(data_dir)"
   ]
  },
  {
   "cell_type": "code",
   "execution_count": 4,
   "metadata": {},
   "outputs": [
    {
     "data": {
      "text/plain": [
       "(x=0.00, y=400.00, z=100.00)"
      ]
     },
     "execution_count": 4,
     "metadata": {},
     "output_type": "execute_result"
    }
   ],
   "source": [
    "robot._driver.get_head_position()['current']"
   ]
  },
  {
   "cell_type": "code",
   "execution_count": 5,
   "metadata": {
    "collapsed": true
   },
   "outputs": [],
   "source": [
    "tiprack = containers.load('tiprack-200ul', 'A1')\n",
    "p200 = instruments.Pipette(axis='a', tip_racks=[tiprack], name='pls_work_pipette')"
   ]
  },
  {
   "cell_type": "code",
   "execution_count": 6,
   "metadata": {
    "collapsed": true
   },
   "outputs": [],
   "source": [
    "robot.move_head(x=100, y=100, z=10)"
   ]
  },
  {
   "cell_type": "code",
   "execution_count": 7,
   "metadata": {},
   "outputs": [
    {
     "data": {
      "text/plain": [
       "<opentrons.instruments.pipette.Pipette at 0x10ee6eda0>"
      ]
     },
     "execution_count": 7,
     "metadata": {},
     "output_type": "execute_result"
    }
   ],
   "source": [
    "rel_pos = tiprack.from_center(x=0, y=0, z=-1, reference=tiprack)\n",
    "p200.calibrate_position((tiprack, rel_pos))"
   ]
  },
  {
   "cell_type": "code",
   "execution_count": 46,
   "metadata": {},
   "outputs": [
    {
     "name": "stdout",
     "output_type": "stream",
     "text": [
      "(x=0.00, y=400.00, z=100.00)\n"
     ]
    }
   ],
   "source": [
    "robot.home()\n",
    "print(robot._driver.get_head_position()['current'])"
   ]
  },
  {
   "cell_type": "code",
   "execution_count": 47,
   "metadata": {},
   "outputs": [
    {
     "name": "stdout",
     "output_type": "stream",
     "text": [
      "(x=100.00, y=100.00, z=10.00)\n"
     ]
    }
   ],
   "source": [
    "p200.move_to(tiprack)\n",
    "robot.run()\n",
    "print(robot._driver.get_head_position()['current'])"
   ]
  },
  {
   "cell_type": "code",
   "execution_count": 11,
   "metadata": {},
   "outputs": [
    {
     "name": "stdout",
     "output_type": "stream",
     "text": [
      "(x=111.24, y=114.34, z=10.00)\n",
      "{'A1': {'children': {'tiprack-200ul': {'delta': (x=90.00, y=90.00, z=10.00), 'type': 'tiprack-200ul'}}}}\n"
     ]
    }
   ],
   "source": [
    "print(robot._driver.get_head_position()['current'])\n",
    "print(p200.calibration_data)"
   ]
  },
  {
   "cell_type": "code",
   "execution_count": 14,
   "metadata": {},
   "outputs": [
    {
     "name": "stdout",
     "output_type": "stream",
     "text": [
      "{'A1': {'children': {'tiprack-200ul': {'delta': (x=90.00, y=90.00, z=10.00), 'type': 'tiprack-200ul'}}}}\n",
      "a:pls_work_pipette\n",
      "(x=10.00, y=10.00, z=0.00)\n",
      "OrderedDict([('tiprack-200ul', <Deck><Slot A1><Container tiprack-200ul>), ('plate1', <Deck><Slot C1><Container plate1>)])\n",
      "[('A', <opentrons.instruments.pipette.Pipette object at 0x10ee6eda0>)]\n"
     ]
    }
   ],
   "source": [
    "print(p200.calibration_data)\n",
    "print(p200.calibration_key)\n",
    "print(tiprack.coordinates())\n",
    "print(robot.containers())\n",
    "print(robot.get_instruments())"
   ]
  },
  {
   "cell_type": "code",
   "execution_count": 36,
   "metadata": {},
   "outputs": [
    {
     "name": "stdout",
     "output_type": "stream",
     "text": [
      "{'axis_homed': {'x': True, 'y': True, 'z': True, 'a': True, 'b': True}, 'switches': {'x': False, 'y': False, 'z': False, 'a': False, 'b': False}, 'steps_per_mm': {'x': 80.0, 'y': 80.0}}\n",
      "{'length': 0, 'width': 0, 'height': 0, 'type': 'tiprack-200ul'}\n",
      "{'length': 0, 'width': 0, 'height': 0, 'type': '96-PCR-flat'}\n"
     ]
    }
   ],
   "source": [
    "plate1 = containers.load('96-PCR-flat', 'C1', 'plate1')\n",
    "print(robot.diagnostics())\n",
    "for t in robot.containers():\n",
    "    print(robot.containers()[t].properties)"
   ]
  },
  {
   "cell_type": "code",
   "execution_count": 41,
   "metadata": {},
   "outputs": [
    {
     "name": "stdout",
     "output_type": "stream",
     "text": [
      "<Container tiprack-200ul>\n",
      "('A', <opentrons.instruments.pipette.Pipette object at 0x10ee6eda0>)\n"
     ]
    }
   ],
   "source": [
    "print(robot.containers()['tiprack-200ul'])\n",
    "print(robot.get_instruments()[0])"
   ]
  },
  {
   "cell_type": "code",
   "execution_count": null,
   "metadata": {
    "collapsed": true
   },
   "outputs": [],
   "source": []
  }
 ],
 "metadata": {
  "kernelspec": {
   "display_name": "Python 3",
   "language": "python",
   "name": "python3"
  },
  "language_info": {
   "codemirror_mode": {
    "name": "ipython",
    "version": 3
   },
   "file_extension": ".py",
   "mimetype": "text/x-python",
   "name": "python",
   "nbconvert_exporter": "python",
   "pygments_lexer": "ipython3",
   "version": "3.6.1"
  }
 },
 "nbformat": 4,
 "nbformat_minor": 2
}
