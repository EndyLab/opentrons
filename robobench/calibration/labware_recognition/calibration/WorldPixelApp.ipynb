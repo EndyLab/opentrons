{
 "cells": [
  {
   "cell_type": "code",
   "execution_count": 1,
   "metadata": {
    "collapsed": true
   },
   "outputs": [],
   "source": [
    "import cv2\n",
    "import imutils\n",
    "import numpy as np\n",
    "import glob"
   ]
  },
  {
   "cell_type": "code",
   "execution_count": 2,
   "metadata": {
    "collapsed": true
   },
   "outputs": [],
   "source": [
    "with np.load('calibration_values.npz') as calibration_values:\n",
    "    mtx, dist, rvecs, tvecs = [calibration_values[i] for i in ('mtx', 'dist', 'rvecs', 'tvecs')]"
   ]
  },
  {
   "cell_type": "code",
   "execution_count": 3,
   "metadata": {
    "collapsed": true
   },
   "outputs": [],
   "source": [
    "def draw(img, corners, imgpts):\n",
    "    corner = tuple(corners[0].ravel())\n",
    "    img = cv2.line(img, corner, tuple(imgpts[0].ravel()), (255,0,0), 5)\n",
    "    img = cv2.line(img, corner, tuple(imgpts[1].ravel()), (0,255,0), 5)\n",
    "    img = cv2.line(img, corner, tuple(imgpts[2].ravel()), (0,0,255), 5)\n",
    "    return img"
   ]
  },
  {
   "cell_type": "code",
   "execution_count": 8,
   "metadata": {},
   "outputs": [
    {
     "name": "stdout",
     "output_type": "stream",
     "text": [
      "[[ 5.  0.  0.]]\n",
      "[[[ 5.  0.  0.  1.]]]\n"
     ]
    }
   ],
   "source": [
    "criteria = (cv2.TERM_CRITERIA_EPS + cv2.TERM_CRITERIA_MAX_ITER, 30, 0.001)\n",
    "objp = np.zeros((7*5, 1, 3), np.float32) \n",
    "objp[:,:,:2] = np.mgrid[0:7,  0:5].T.reshape(-1,1,2)\n",
    "print(objp[5])\n",
    "print(cv2.convertPointsToHomogeneous(objp[5]))\n",
    "\n",
    "axis = np.float32([[3,0,0], [0,3,0], [0,0,-3]]).reshape(-1,3)"
   ]
  },
  {
   "cell_type": "code",
   "execution_count": 12,
   "metadata": {
    "collapsed": true
   },
   "outputs": [],
   "source": [
    "def pixelToWorld(img_point, z, rvecs, tvecs, mtx):\n",
    "    '''\n",
    "    Prints world coordinate with given z value of inputted pixel coordinate.\n",
    "    Input: img_point (1x2 numpy array x, y), z value of world point, rvecs, tvecs, camera mtx\n",
    "    '''\n",
    "    if img_point.shape != (1, 2):\n",
    "        raise ValueError('Expects 1x2 numpy array as img_point, received {}'.format(img_point))\n",
    "    # 3x3 rotation matrix\n",
    "    rtmtx, _ = cv2.Rodrigues(rvecs)\n",
    "    \n",
    "    rt_tr_mtx = np.concatenate((rtmtx, tvecs), axis=1)\n",
    "    transform_mtx = np.dot(mtx, rt_tr_mtx)\n",
    "    u = img_point[0][0]\n",
    "    v = img_point[0][1]\n",
    "    desired_vec = np.array([[transform_mtx[0][2] * z + transform_mtx[0][3] - u * transform_mtx[2][2] * z - u * transform_mtx[2][3]],\n",
    "                           [transform_mtx[1][2] * z + transform_mtx[1][3] - v * transform_mtx[2][2] * z - v * transform_mtx[2][3]]])\n",
    "    \n",
    "    desired_mat = np.array([[u * transform_mtx[2][0] - transform_mtx[0][0], u * transform_mtx[2][1] - transform_mtx[0][1]],\n",
    "                           [v * transform_mtx[2][0] - transform_mtx[1][0], v * transform_mtx[2][1] - transform_mtx[1][1]]])\n",
    "    inv_dmat = np.linalg.inv(desired_mat)\n",
    "    pred = np.dot(inv_dmat, desired_vec)\n",
    "    z_axis = np.array([[z]])\n",
    "    print(pred.shape)\n",
    "    print(z_axis.shape)\n",
    "    pred = np.concatenate((pred, z_axis), axis=0)\n",
    "    print(\"Prediction: {}\".format(pred))"
   ]
  },
  {
   "cell_type": "code",
   "execution_count": 13,
   "metadata": {
    "collapsed": true
   },
   "outputs": [],
   "source": [
    "def getLocations(event, x, y, flags, param):\n",
    "    if event == cv2.EVENT_LBUTTONUP:\n",
    "        img_points = np.array([[x, y]])\n",
    "        pixelToWorld(img_points, 0, rvecs, tvecs, mtx)"
   ]
  },
  {
   "cell_type": "code",
   "execution_count": 15,
   "metadata": {},
   "outputs": [
    {
     "name": "stdout",
     "output_type": "stream",
     "text": [
      "[[ 0.99995709  0.00874248  0.0030652 ]\n",
      " [-0.00877021  0.99991966  0.00915242]\n",
      " [-0.00298493 -0.00917891  0.99995342]]\n",
      "(2, 1)\n",
      "(1, 1)\n",
      "Prediction: [[ 1.94923479]\n",
      " [-0.11996367]\n",
      " [ 0.        ]]\n"
     ]
    }
   ],
   "source": [
    "cv2.namedWindow('img')\n",
    "cv2.setMouseCallback('img', getLocations)\n",
    "\n",
    "#for fname in glob.glob('checkerboard_images/*.jpg'):\n",
    "for fname in ['checkerboard_images/img21.jpg']:\n",
    "    img = cv2.imread(fname)\n",
    "    gray = cv2.cvtColor(img,cv2.COLOR_BGR2GRAY)\n",
    "    ret, corners = cv2.findChessboardCorners(gray, (7,5),None)\n",
    "\n",
    "    if ret == True:\n",
    "        corners2 = cv2.cornerSubPix(gray,corners,(11,11),(-1,-1),criteria)\n",
    "#         print(corners2)\n",
    "#         print(objp)\n",
    "\n",
    "        # Find the rotation and translation vectors.\n",
    "        #_, rvecs, tvecs, inliers = cv2.solvePnPRansac(objp, corners2, mtx, None)\n",
    "        _, rvecs, tvecs, inliers = cv2.solvePnPRansac(objp, corners2, mtx, dist)\n",
    "\n",
    "        # project 3D points to image plane\n",
    "        imgpts, jac = cv2.projectPoints(axis, rvecs, tvecs, mtx, dist)\n",
    "\n",
    "        img = draw(img,corners2,imgpts)\n",
    "        cv2.drawChessboardCorners(img, (7,5), corners2,ret)\n",
    "        cv2.imshow('img',img)\n",
    "        k = cv2.waitKey(0) & 0xff\n",
    "        if k == 's':\n",
    "            cv2.imwrite(fname[:6]+'.png', img)\n",
    "\n",
    "cv2.destroyAllWindows()"
   ]
  },
  {
   "cell_type": "code",
   "execution_count": null,
   "metadata": {
    "collapsed": true
   },
   "outputs": [],
   "source": []
  }
 ],
 "metadata": {
  "kernelspec": {
   "display_name": "Python 3",
   "language": "python",
   "name": "python3"
  },
  "language_info": {
   "codemirror_mode": {
    "name": "ipython",
    "version": 3
   },
   "file_extension": ".py",
   "mimetype": "text/x-python",
   "name": "python",
   "nbconvert_exporter": "python",
   "pygments_lexer": "ipython3",
   "version": "3.5.3"
  }
 },
 "nbformat": 4,
 "nbformat_minor": 2
}
