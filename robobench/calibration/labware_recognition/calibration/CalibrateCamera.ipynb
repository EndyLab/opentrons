{
 "cells": [
  {
   "cell_type": "code",
   "execution_count": 11,
   "metadata": {
    "collapsed": true
   },
   "outputs": [],
   "source": [
    "import cv2\n",
    "import imutils\n",
    "import numpy as np\n",
    "import glob"
   ]
  },
  {
   "cell_type": "code",
   "execution_count": 12,
   "metadata": {},
   "outputs": [],
   "source": [
    "index = 21\n",
    "cam = cv2.VideoCapture(0)\n",
    "while True:\n",
    "    ret, frame = cam.read()\n",
    "    frame = imutils.resize(frame, width=1000)\n",
    "    cv2.imshow(\"Video\", frame)\n",
    "    key = cv2.waitKey(1) & 0xFF\n",
    "    if key == ord(\"c\"):\n",
    "        cv2.imwrite(\"checkerboard_images/img\" + str(index) + \".jpg\", frame)\n",
    "        index = index + 1\n",
    "    if key == ord(\"q\"):\n",
    "        cv2.destroyWindow(\"Video\")\n",
    "        break"
   ]
  },
  {
   "cell_type": "code",
   "execution_count": 2,
   "metadata": {
    "collapsed": true
   },
   "outputs": [],
   "source": [
    "# termination criteria\n",
    "criteria = (cv2.TERM_CRITERIA_EPS + cv2.TERM_CRITERIA_MAX_ITER, 30, 0.001)\n",
    "\n",
    "# prepare object points, like (0,0,0), (1,0,0), (2,0,0) ....,(6,4,0)\n",
    "objp = np.zeros((5*7,3), np.float32)\n",
    "objp[:,:2] = np.mgrid[0:7,0:5].T.reshape(-1,2)\n",
    "\n",
    "# Arrays to store object points and image points from all the images.\n",
    "objpoints = [] # 3d point in real world space\n",
    "imgpoints = [] # 2d points in image plane.\n",
    "\n",
    "images = glob.glob('checkerboard_images/*.jpg')"
   ]
  },
  {
   "cell_type": "code",
   "execution_count": 3,
   "metadata": {
    "collapsed": true
   },
   "outputs": [],
   "source": [
    "for fname in images:\n",
    "    img = cv2.imread(fname)\n",
    "    gray = cv2.cvtColor(img,cv2.COLOR_BGR2GRAY)\n",
    "\n",
    "    # Find the chess board corners\n",
    "    ret, corners = cv2.findChessboardCorners(gray, (7,5),None)\n",
    "\n",
    "    # If found, add object points, image points (after refining them)\n",
    "    if ret == True:\n",
    "        objpoints.append(objp)\n",
    "\n",
    "        corners2 = cv2.cornerSubPix(gray,corners,(11,11),(-1,-1),criteria)\n",
    "        imgpoints.append(corners)\n",
    "\n",
    "        # Draw and display the corners\n",
    "        cv2.drawChessboardCorners(img, (7,5), corners2,ret)\n",
    "        #cv2.imshow('img',img)\n",
    "        #cv2.waitKey(500)"
   ]
  },
  {
   "cell_type": "code",
   "execution_count": 7,
   "metadata": {
    "collapsed": true
   },
   "outputs": [],
   "source": [
    "cv2.destroyAllWindows()"
   ]
  },
  {
   "cell_type": "code",
   "execution_count": 4,
   "metadata": {
    "collapsed": true
   },
   "outputs": [],
   "source": [
    "ret, mtx, dist, rvecs, tvecs = cv2.calibrateCamera(objpoints, imgpoints, gray.shape[::-1],None,None)"
   ]
  },
  {
   "cell_type": "code",
   "execution_count": 5,
   "metadata": {},
   "outputs": [
    {
     "name": "stdout",
     "output_type": "stream",
     "text": [
      "Camera matrix: [[ 591.54531435    0.          496.09424034]\n",
      " [   0.          590.67079841  303.14255662]\n",
      " [   0.            0.            1.        ]]\n",
      "Distortion coefficients: [[-0.00763408  0.04460509  0.00225208 -0.00070446  0.03251509]]\n",
      "Rotation Vectors: [array([[-0.21088746],\n",
      "       [ 0.51610235],\n",
      "       [-1.41549622]]), array([[-0.21961423],\n",
      "       [-0.7592079 ],\n",
      "       [ 1.40679603]]), array([[-0.33901378],\n",
      "       [ 0.78439131],\n",
      "       [ 1.30931066]]), array([[ 0.40309526],\n",
      "       [-0.71017776],\n",
      "       [-1.36612892]]), array([[ 0.47876923],\n",
      "       [ 0.19785663],\n",
      "       [-1.4773774 ]]), array([[ 0.76610045],\n",
      "       [-0.26437494],\n",
      "       [-1.40293089]]), array([[ 0.294913 ],\n",
      "       [ 0.7638158],\n",
      "       [ 1.0554216]]), array([[ 0.37761146],\n",
      "       [-0.19341699],\n",
      "       [ 1.50179793]]), array([[ 0.41747486],\n",
      "       [-0.45326429],\n",
      "       [-1.2403339 ]]), array([[-0.12183155],\n",
      "       [ 0.54549789],\n",
      "       [ 1.64522841]]), array([[ 0.1333779 ],\n",
      "       [ 0.18265801],\n",
      "       [-1.43511663]]), array([[ 0.44628668],\n",
      "       [ 0.43427047],\n",
      "       [-1.4291344 ]]), array([[ 0.53167481],\n",
      "       [ 0.60528453],\n",
      "       [-1.50836255]]), array([[-0.10947379],\n",
      "       [ 0.70997113],\n",
      "       [ 1.42728549]]), array([[-0.27635439],\n",
      "       [ 0.0885778 ],\n",
      "       [-1.39331303]]), array([[-0.01176739],\n",
      "       [-0.61882404],\n",
      "       [ 0.54277628]]), array([[-0.41881786],\n",
      "       [-0.00792334],\n",
      "       [-1.16578416]]), array([[ 0.45349876],\n",
      "       [ 0.31982323],\n",
      "       [-1.07728035]]), array([[-0.57163952],\n",
      "       [-0.58371347],\n",
      "       [-1.42269968]]), array([[ 0.5252401 ],\n",
      "       [ 1.24140189],\n",
      "       [ 1.39841053]]), array([[ 0.0891689 ],\n",
      "       [ 0.60498669],\n",
      "       [-1.38970306]])]\n",
      "Translation Vectors: [array([[ -1.34542944],\n",
      "       [  3.0965687 ],\n",
      "       [ 15.49281863]]), array([[  0.34954719],\n",
      "       [ -4.10446106],\n",
      "       [ 16.34901989]]), array([[  0.49356318],\n",
      "       [ -5.8762217 ],\n",
      "       [ 19.18733085]]), array([[  0.6456568 ],\n",
      "       [  0.02926342],\n",
      "       [ 16.26342922]]), array([[ -0.90239725],\n",
      "       [  4.34834834],\n",
      "       [ 18.25601816]]), array([[  0.62653132],\n",
      "       [  3.72625029],\n",
      "       [ 15.73095756]]), array([[ -3.45396129],\n",
      "       [ -3.72691178],\n",
      "       [ 16.37834052]]), array([[ -1.815025  ],\n",
      "       [ -0.31973473],\n",
      "       [ 16.44123785]]), array([[ -0.77616942],\n",
      "       [  2.77399539],\n",
      "       [ 15.92403084]]), array([[  3.80311471],\n",
      "       [ -4.0774849 ],\n",
      "       [ 19.0831842 ]]), array([[ -0.52586655],\n",
      "       [  2.35239949],\n",
      "       [ 13.20611514]]), array([[ -1.50238428],\n",
      "       [  4.53665958],\n",
      "       [ 18.44735984]]), array([[ -1.9155807 ],\n",
      "       [  2.20545424],\n",
      "       [ 16.74002474]]), array([[  2.08320521],\n",
      "       [ -3.02124004],\n",
      "       [ 19.30060503]]), array([[ -1.91615699],\n",
      "       [  2.18094483],\n",
      "       [ 21.13179248]]), array([[ -6.47054491],\n",
      "       [ -2.73235643],\n",
      "       [ 16.81129793]]), array([[  3.85631979],\n",
      "       [  2.27651437],\n",
      "       [ 18.05490902]]), array([[  3.25872627],\n",
      "       [ -1.33481516],\n",
      "       [ 18.48204479]]), array([[  0.17870066],\n",
      "       [  3.3823439 ],\n",
      "       [ 12.24765843]]), array([[  2.92186288],\n",
      "       [ -2.7681171 ],\n",
      "       [ 11.94522643]]), array([[ -3.47169981],\n",
      "       [  4.13419674],\n",
      "       [ 18.89177057]])]\n"
     ]
    }
   ],
   "source": [
    "print(\"Camera matrix: {}\".format(mtx))\n",
    "print(\"Distortion coefficients: {}\".format(dist))\n",
    "print(\"Rotation Vectors: {}\".format(rvecs))\n",
    "print(\"Translation Vectors: {}\".format(tvecs))"
   ]
  },
  {
   "cell_type": "code",
   "execution_count": 6,
   "metadata": {},
   "outputs": [],
   "source": [
    "img = cv2.imread('checkerboard_images/img8.jpg')\n",
    "h,  w = img.shape[:2]\n",
    "newcameramtx, roi=cv2.getOptimalNewCameraMatrix(mtx,dist,(w,h),1,(w,h))"
   ]
  },
  {
   "cell_type": "code",
   "execution_count": 10,
   "metadata": {},
   "outputs": [
    {
     "data": {
      "text/plain": [
       "13"
      ]
     },
     "execution_count": 10,
     "metadata": {},
     "output_type": "execute_result"
    }
   ],
   "source": [
    "# undistort\n",
    "dst = cv2.undistort(img, mtx, dist, None, newcameramtx)\n",
    "\n",
    "# crop the image\n",
    "x,y,w,h = roi\n",
    "dst = dst[y:y+h, x:x+w]\n",
    "cv2.imshow(\"Result\", dst)\n",
    "cv2.waitKey(0)"
   ]
  },
  {
   "cell_type": "code",
   "execution_count": 16,
   "metadata": {
    "collapsed": true
   },
   "outputs": [],
   "source": [
    "np.savez('calibration_values', mtx=mtx, dist=dist, rvecs=rvecs, tvecs=tvecs)"
   ]
  },
  {
   "cell_type": "code",
   "execution_count": null,
   "metadata": {
    "collapsed": true
   },
   "outputs": [],
   "source": []
  }
 ],
 "metadata": {
  "kernelspec": {
   "display_name": "Python 3",
   "language": "python",
   "name": "python3"
  },
  "language_info": {
   "codemirror_mode": {
    "name": "ipython",
    "version": 3
   },
   "file_extension": ".py",
   "mimetype": "text/x-python",
   "name": "python",
   "nbconvert_exporter": "python",
   "pygments_lexer": "ipython3",
   "version": "3.5.3"
  }
 },
 "nbformat": 4,
 "nbformat_minor": 2
}
