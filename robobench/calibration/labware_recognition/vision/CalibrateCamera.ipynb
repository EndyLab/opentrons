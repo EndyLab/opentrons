{
 "cells": [
  {
   "cell_type": "code",
   "execution_count": 4,
   "metadata": {
    "collapsed": true
   },
   "outputs": [],
   "source": [
    "import cv2\n",
    "import imutils\n",
    "import numpy as np\n",
    "import glob"
   ]
  },
  {
   "cell_type": "code",
   "execution_count": 3,
   "metadata": {},
   "outputs": [
    {
     "name": "stdout",
     "output_type": "stream",
     "text": [
      "0\n",
      "1\n",
      "2\n",
      "3\n",
      "4\n",
      "5\n",
      "6\n",
      "7\n",
      "8\n",
      "9\n",
      "10\n",
      "11\n",
      "12\n",
      "13\n",
      "14\n",
      "15\n",
      "16\n",
      "17\n",
      "18\n",
      "19\n",
      "20\n",
      "21\n",
      "22\n",
      "23\n",
      "24\n",
      "25\n",
      "26\n",
      "27\n",
      "28\n"
     ]
    }
   ],
   "source": [
    "index = 0\n",
    "cam = cv2.VideoCapture(0)\n",
    "while True:\n",
    "    ret, frame = cam.read()\n",
    "    frame2 = imutils.resize(frame, width=1000)\n",
    "    cv2.imshow(\"Video\", frame2)\n",
    "    h, w, _ = frame.shape\n",
    "    h2, w2, _ = frame2.shape\n",
    "    key = cv2.waitKey(1) & 0xFF\n",
    "    if key == ord(\"c\"):\n",
    "#         print(w)\n",
    "#         print(w2)\n",
    "#         print(\"save\")\n",
    "        print(index)\n",
    "        #cv2.imwrite(\"images/camera_calibration/checkerboard_img_\" + str(index) + \".jpg\", frame2)\n",
    "        cv2.imwrite(\"images/camera_calibration/checkerboard_img_w\"  + str(w) + \"_\"+ str(index) + \".jpg\", frame)\n",
    "        cv2.imwrite(\"images/camera_calibration/checkerboard_img_w\" + str(w2) + \"_\" + str(index) + \".jpg\", frame2)\n",
    "        index = index + 1\n",
    "    if key == ord(\"q\"):\n",
    "        cv2.destroyWindow(\"Video\")\n",
    "        break"
   ]
  },
  {
   "cell_type": "code",
   "execution_count": 5,
   "metadata": {
    "collapsed": true
   },
   "outputs": [],
   "source": [
    "# termination criteria\n",
    "criteria = (cv2.TERM_CRITERIA_EPS + cv2.TERM_CRITERIA_MAX_ITER, 30, 0.001)\n",
    "\n",
    "# prepare object points, like (0,0,0), (1,0,0), (2,0,0) ....,(6,4,0)\n",
    "objp = np.zeros((5*7,3), np.float32)\n",
    "objp[:,:2] = np.mgrid[0:7,0:5].T.reshape(-1,2)\n",
    "\n",
    "# Arrays to store object points and image points from all the images.\n",
    "objpoints = [] # 3d point in real world space\n",
    "imgpoints = [] # 2d points in image plane.\n",
    "\n",
    "images = glob.glob('images/camera_calibration/checkerboard_img_w1000_*.jpg')"
   ]
  },
  {
   "cell_type": "code",
   "execution_count": 7,
   "metadata": {
    "collapsed": true
   },
   "outputs": [],
   "source": [
    "for fname in images:\n",
    "    img = cv2.imread(fname)\n",
    "    gray = cv2.cvtColor(img,cv2.COLOR_BGR2GRAY)\n",
    "\n",
    "    # Find the chess board corners\n",
    "    ret, corners = cv2.findChessboardCorners(gray, (7,5),None)\n",
    "\n",
    "    # If found, add object points, image points (after refining them)\n",
    "    if ret == True:\n",
    "        objpoints.append(objp)\n",
    "\n",
    "        corners2 = cv2.cornerSubPix(gray,corners,(11,11),(-1,-1),criteria)\n",
    "        imgpoints.append(corners)\n",
    "\n",
    "        # Draw and display the corners\n",
    "        cv2.drawChessboardCorners(img, (7,5), corners2,ret)\n",
    "        cv2.imshow('img',img)\n",
    "        cv2.waitKey(500)"
   ]
  },
  {
   "cell_type": "code",
   "execution_count": 6,
   "metadata": {
    "collapsed": true
   },
   "outputs": [],
   "source": [
    "cv2.destroyAllWindows()"
   ]
  },
  {
   "cell_type": "code",
   "execution_count": null,
   "metadata": {},
   "outputs": [],
   "source": [
    "ret, mtx, dist, rvecs, tvecs = cv2.calibrateCamera(objpoints, imgpoints, gray.shape[::-1],None,None)"
   ]
  },
  {
   "cell_type": "code",
   "execution_count": 8,
   "metadata": {},
   "outputs": [
    {
     "name": "stdout",
     "output_type": "stream",
     "text": [
      "Camera matrix: [[ 587.79833276    0.          487.59051853]\n",
      " [   0.          588.46112685  304.02582498]\n",
      " [   0.            0.            1.        ]]\n",
      "Distortion coefficients: [[-0.0265891   0.12327877  0.00112269 -0.00323499 -0.11906654]]\n",
      "Rotation Vectors: [array([[-0.00100074],\n",
      "       [ 0.01631426],\n",
      "       [-0.0235615 ]]), array([[-0.36288984],\n",
      "       [-0.0074155 ],\n",
      "       [ 0.10323975]]), array([[ 0.06651402],\n",
      "       [ 0.75400489],\n",
      "       [ 0.09268634]]), array([[ 0.18862985],\n",
      "       [-0.68945179],\n",
      "       [ 0.00417327]]), array([[-0.52332262],\n",
      "       [ 0.05069336],\n",
      "       [ 0.14691784]]), array([[ 0.60530367],\n",
      "       [-0.00950272],\n",
      "       [ 0.07952514]]), array([[ 0.29372493],\n",
      "       [-0.58019181],\n",
      "       [ 0.06234755]]), array([[-0.37520138],\n",
      "       [ 0.61494986],\n",
      "       [ 0.1190888 ]]), array([[ 0.46536616],\n",
      "       [ 0.67567598],\n",
      "       [ 0.21749373]]), array([[-0.36551242],\n",
      "       [ 0.03325084],\n",
      "       [ 0.23230342]]), array([[ 0.26452565],\n",
      "       [ 0.46230112],\n",
      "       [ 0.01671084]]), array([[ 0.24126316],\n",
      "       [-0.33039068],\n",
      "       [ 0.0775343 ]]), array([[-0.60680431],\n",
      "       [ 0.00180626],\n",
      "       [ 0.0352902 ]]), array([[-0.68348013],\n",
      "       [-0.02645871],\n",
      "       [ 0.10705731]]), array([[ 0.17735046],\n",
      "       [-0.14608859],\n",
      "       [ 0.01950364]]), array([[-0.16775891],\n",
      "       [ 0.57639624],\n",
      "       [ 0.13063573]]), array([[-0.44662067],\n",
      "       [ 0.00780475],\n",
      "       [ 0.03886029]]), array([[ 0.2999592 ],\n",
      "       [ 0.32192664],\n",
      "       [ 0.07022683]]), array([[ 0.23156083],\n",
      "       [ 0.93517784],\n",
      "       [ 0.09394633]]), array([[ 0.21669692],\n",
      "       [-0.87249973],\n",
      "       [ 0.00244041]]), array([[-0.49850526],\n",
      "       [-0.35568264],\n",
      "       [ 0.04625894]]), array([[ 0.22549671],\n",
      "       [ 0.27548512],\n",
      "       [ 0.06213257]]), array([[ 0.65373104],\n",
      "       [-0.07801382],\n",
      "       [ 0.00475834]]), array([[ 0.09878358],\n",
      "       [ 0.51373244],\n",
      "       [ 0.03935689]]), array([[ 0.07404551],\n",
      "       [-0.61396526],\n",
      "       [ 0.06004383]]), array([[-0.62576091],\n",
      "       [-0.25789798],\n",
      "       [-0.02702974]]), array([[-0.52794589],\n",
      "       [ 0.51746407],\n",
      "       [ 0.10041198]]), array([[ 0.33255388],\n",
      "       [ 0.48817627],\n",
      "       [-0.09946347]]), array([[ 0.59829952],\n",
      "       [-0.34400047],\n",
      "       [ 0.03115937]])]\n",
      "Translation Vectors: [array([[ -4.53467521],\n",
      "       [ -2.90417872],\n",
      "       [ 22.55965624]]), array([[ -4.7013272 ],\n",
      "       [ -2.57719959],\n",
      "       [ 20.5749463 ]]), array([[  6.55654925],\n",
      "       [ -1.80842865],\n",
      "       [ 18.79233973]]), array([[ -8.63830267],\n",
      "       [ -1.75490159],\n",
      "       [ 14.11937652]]), array([[ -2.03898878],\n",
      "       [ -6.13888725],\n",
      "       [ 19.25235872]]), array([[ -2.61705145],\n",
      "       [  2.10394271],\n",
      "       [ 15.77300387]]), array([[ -5.3245192 ],\n",
      "       [ -2.91803687],\n",
      "       [ 15.59832754]]), array([[  4.8530069 ],\n",
      "       [  1.3377124 ],\n",
      "       [ 20.40413658]]), array([[  5.15832916],\n",
      "       [ -5.91425555],\n",
      "       [ 18.19052034]]), array([[ -4.57814861],\n",
      "       [ -1.83345258],\n",
      "       [ 21.61303254]]), array([[ -4.40330836],\n",
      "       [  0.04090477],\n",
      "       [ 19.86196216]]), array([[ -0.93208144],\n",
      "       [  0.29835639],\n",
      "       [ 17.80331114]]), array([[ -3.29766861],\n",
      "       [  0.43145926],\n",
      "       [ 19.05552081]]), array([[ -2.2741036 ],\n",
      "       [ -1.27022166],\n",
      "       [ 20.9491544 ]]), array([[ -6.87098885],\n",
      "       [ -3.92171539],\n",
      "       [ 17.70557862]]), array([[  4.0034132 ],\n",
      "       [ -0.29838689],\n",
      "       [ 19.49391248]]), array([[ -0.19928198],\n",
      "       [ -7.86155681],\n",
      "       [ 21.91122021]]), array([[ -2.92268777],\n",
      "       [  0.31063098],\n",
      "       [ 18.39501427]]), array([[ -1.1853716 ],\n",
      "       [ -2.80327451],\n",
      "       [ 17.93323097]]), array([[ -4.55473711],\n",
      "       [ -2.28983731],\n",
      "       [ 13.96783236]]), array([[ -1.53356538],\n",
      "       [ -4.39291831],\n",
      "       [ 18.1623279 ]]), array([[ -1.06324997],\n",
      "       [  1.21194106],\n",
      "       [ 18.55621278]]), array([[ -1.65715956],\n",
      "       [ -4.87885342],\n",
      "       [ 16.45144355]]), array([[ -6.20321071],\n",
      "       [ -1.98958966],\n",
      "       [ 19.28197897]]), array([[  1.95029923],\n",
      "       [ -1.81674705],\n",
      "       [ 16.06034608]]), array([[  0.23159179],\n",
      "       [ -3.6469636 ],\n",
      "       [ 18.63375228]]), array([[ -5.14563606],\n",
      "       [ -3.43649789],\n",
      "       [ 20.47509311]]), array([[ -6.50376351],\n",
      "       [  1.25425689],\n",
      "       [ 19.19999888]]), array([[  0.68827478],\n",
      "       [  2.33515124],\n",
      "       [ 15.39012191]])]\n"
     ]
    }
   ],
   "source": [
    "print(\"Camera matrix: {}\".format(mtx))\n",
    "print(\"Distortion coefficients: {}\".format(dist))\n",
    "# print(\"Calibration matrix values: {}\".format(cv2.calibrationMatrixValues(mtx, )))\n",
    "print(\"Rotation Vectors: {}\".format(rvecs))\n",
    "print(\"Translation Vectors: {}\".format(tvecs))"
   ]
  },
  {
   "cell_type": "code",
   "execution_count": 16,
   "metadata": {
    "collapsed": true
   },
   "outputs": [],
   "source": [
    "img = cv2.imread('images/camera_calibration/checkerboard_img_w1000_0.jpg')\n",
    "img2 = cv2.imread('images/camera_calibration/checkerboard_img_w1000_0.jpg')\n",
    "#img3 = cv2.imread('images/camera_calibration/checkerboard_img_w1000_3.jpg')\n",
    "h,  w = img.shape[:2]\n",
    "newcameramtx, roi=cv2.getOptimalNewCameraMatrix(mtx,dist,(w,h),1,(w,h))"
   ]
  },
  {
   "cell_type": "code",
   "execution_count": 17,
   "metadata": {},
   "outputs": [
    {
     "data": {
      "text/plain": [
       "13"
      ]
     },
     "execution_count": 17,
     "metadata": {},
     "output_type": "execute_result"
    }
   ],
   "source": [
    "# undistort\n",
    "dst = cv2.undistort(img, mtx, dist, None, newcameramtx)\n",
    "dst2 = cv2.undistort(img, mtx, dist)\n",
    "\n",
    "# crop the image\n",
    "x,y,w,h = roi\n",
    "#dst = dst[y:y+h, x:x+w]\n",
    "cv2.imshow(\"undistorted\", img2)\n",
    "cv2.imshow(\"Result\", dst)\n",
    "cv2.imshow(\"Result no new mtx\", dst2)\n",
    "\n",
    "cv2.waitKey(0)"
   ]
  },
  {
   "cell_type": "code",
   "execution_count": 18,
   "metadata": {},
   "outputs": [
    {
     "name": "stdout",
     "output_type": "stream",
     "text": [
      "(562, 1000, 3)\n"
     ]
    }
   ],
   "source": [
    "print(frame2.shape)"
   ]
  },
  {
   "cell_type": "code",
   "execution_count": 19,
   "metadata": {
    "collapsed": true
   },
   "outputs": [],
   "source": [
    "np.savez('calibration_values', mtx=mtx, dist=dist, rvecs=rvecs, tvecs=tvecs, shape=frame2.shape)"
   ]
  },
  {
   "cell_type": "code",
   "execution_count": null,
   "metadata": {
    "collapsed": true
   },
   "outputs": [],
   "source": []
  }
 ],
 "metadata": {
  "kernelspec": {
   "display_name": "Python 3",
   "language": "python",
   "name": "python3"
  },
  "language_info": {
   "codemirror_mode": {
    "name": "ipython",
    "version": 3
   },
   "file_extension": ".py",
   "mimetype": "text/x-python",
   "name": "python",
   "nbconvert_exporter": "python",
   "pygments_lexer": "ipython3",
   "version": "3.5.3"
  }
 },
 "nbformat": 4,
 "nbformat_minor": 2
}
