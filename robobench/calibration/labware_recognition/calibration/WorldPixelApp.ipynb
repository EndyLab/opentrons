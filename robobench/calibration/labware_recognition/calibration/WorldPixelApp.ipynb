{
 "cells": [
  {
   "cell_type": "code",
   "execution_count": 1,
   "metadata": {
    "collapsed": true
   },
   "outputs": [],
   "source": [
    "import cv2\n",
    "import imutils\n",
    "import numpy as np\n",
    "import glob"
   ]
  },
  {
   "cell_type": "code",
   "execution_count": 2,
   "metadata": {
    "collapsed": true
   },
   "outputs": [],
   "source": [
    "with np.load('calibration_values.npz') as calibration_values:\n",
    "    mtx, dist, rvecs, tvecs = [calibration_values[i] for i in ('mtx', 'dist', 'rvecs', 'tvecs')]"
   ]
  },
  {
   "cell_type": "code",
   "execution_count": 3,
   "metadata": {
    "collapsed": true
   },
   "outputs": [],
   "source": [
    "def draw(img, corners, imgpts):\n",
    "    corner = tuple(corners[0].ravel())\n",
    "    img = cv2.line(img, corner, tuple(imgpts[0].ravel()), (255,0,0), 5)\n",
    "    img = cv2.line(img, corner, tuple(imgpts[1].ravel()), (0,255,0), 5)\n",
    "    img = cv2.line(img, corner, tuple(imgpts[2].ravel()), (0,0,255), 5)\n",
    "    return img"
   ]
  },
  {
   "cell_type": "code",
   "execution_count": 8,
   "metadata": {},
   "outputs": [
    {
     "name": "stdout",
     "output_type": "stream",
     "text": [
      "[[ 5.  0.  0.]]\n",
      "[[[ 5.  0.  0.  1.]]]\n"
     ]
    }
   ],
   "source": [
    "criteria = (cv2.TERM_CRITERIA_EPS + cv2.TERM_CRITERIA_MAX_ITER, 30, 0.001)\n",
    "objp = np.zeros((7*5, 1, 3), np.float32) \n",
    "objp[:,:,:2] = np.mgrid[0:7,  0:5].T.reshape(-1,1,2)\n",
    "print(objp[5])\n",
    "print(cv2.convertPointsToHomogeneous(objp[5]))\n",
    "\n",
    "axis = np.float32([[3,0,0], [0,3,0], [0,0,-3]]).reshape(-1,3)"
   ]
  },
  {
   "cell_type": "code",
   "execution_count": 84,
   "metadata": {
    "collapsed": true
   },
   "outputs": [],
   "source": [
    "def pixelToWorld(img_point, z, rvecs, tvecs, mtx, obj_to_robot_mtx):\n",
    "    '''\n",
    "    Prints world coordinate with given z value of inputted pixel coordinate.\n",
    "    Input: img_point (1x2 numpy array u, v), Z value of world point, rvecs, tvecs, camera mtx (3x3)\n",
    "    Returns 1x3 world point [[X, Y, Z]]\n",
    "    '''\n",
    "    if img_point.shape != (1, 2):\n",
    "        raise ValueError('Expects 1x2 numpy array as img_point, received {}'.format(img_point))\n",
    "    # 3x3 rotation matrix\n",
    "    rtmtx, _ = cv2.Rodrigues(rvecs)\n",
    "    # 3 x 4 rotation transformation matrix\n",
    "    rt_tr_mtx = np.concatenate((rtmtx, tvecs), axis=1)\n",
    "    # complete projection matrix\n",
    "    transform_mtx = np.dot(mtx, rt_tr_mtx)\n",
    "    u = img_point[0][0]\n",
    "    v = img_point[0][1]\n",
    "    # To solve for X,Y given Z, solves\n",
    "    # desired_vec = desired_mat x [[X,Y]]\n",
    "    desired_vec = np.array([[transform_mtx[0][2] * z + transform_mtx[0][3] - u * transform_mtx[2][2] * z - u * transform_mtx[2][3]],\n",
    "                           [transform_mtx[1][2] * z + transform_mtx[1][3] - v * transform_mtx[2][2] * z - v * transform_mtx[2][3]]])\n",
    "    \n",
    "    desired_mat = np.array([[u * transform_mtx[2][0] - transform_mtx[0][0], u * transform_mtx[2][1] - transform_mtx[0][1]],\n",
    "                           [v * transform_mtx[2][0] - transform_mtx[1][0], v * transform_mtx[2][1] - transform_mtx[1][1]]])\n",
    "    inv_dmat = np.linalg.inv(desired_mat)\n",
    "    pred = np.dot(inv_dmat, desired_vec)\n",
    "    print(pred)\n",
    "    pred_homogeneous = cv2.convertPointsToHomogeneous(pred.transpose())[0].transpose()\n",
    "    pred_robot = np.dot(obj_to_robot_mtx, pred_homogeneous)\n",
    "    print(\"pred_robot: {}\".format(pred_robot))\n",
    "    pred_robot[2] = z\n",
    "#     z_axis = np.array([[z]])\n",
    "#     print(pred.shape)\n",
    "#     print(z_axis.shape)\n",
    "#     pred = np.concatenate((pred, z_axis), axis=0)\n",
    "    print(\"Prediction: {}\".format(pred_robot))\n",
    "    return pred_robot"
   ]
  },
  {
   "cell_type": "code",
   "execution_count": 85,
   "metadata": {
    "collapsed": true
   },
   "outputs": [],
   "source": [
    "def getLocations(event, x, y, flags, param):\n",
    "    if event == cv2.EVENT_LBUTTONUP:\n",
    "        img_points = np.array([[x, y]])\n",
    "        pixelToWorld(img_points, 0, rvecs, tvecs, mtx, obj_to_robot_mtx)"
   ]
  },
  {
   "cell_type": "code",
   "execution_count": 86,
   "metadata": {},
   "outputs": [
    {
     "name": "stdout",
     "output_type": "stream",
     "text": [
      "0.0\n",
      "40\n",
      "400\n",
      "[[  0.03703704   0.          -1.48148148]\n",
      " [  0.          -0.03708855  14.83541956]\n",
      " [  0.           0.           1.        ]]\n",
      "[[  27.        0.       40.    ]\n",
      " [   0.      -26.9625  400.    ]\n",
      " [   0.        0.        1.    ]]\n",
      "[[ 6.]\n",
      " [ 4.]\n",
      " [ 1.]]\n",
      "[[ 121.    ]\n",
      " [ 319.1125]\n",
      " [   1.    ]]\n"
     ]
    }
   ],
   "source": [
    "def calibrateRobotTransformation(robot_points):\n",
    "    '''\n",
    "    TODO:\n",
    "    handle inconsistent points, generalize if needed\n",
    "    Input: object points (0,0), (6,0), (0,4) in robot_points (2x1x2)\n",
    "    Output: (robot to object, object to robot) homogeneous transformation matrices\n",
    "    '''\n",
    "    t0 = robot_points[0][0]\n",
    "    t1 = robot_points[0][1]\n",
    "    r00 = (robot_points[1][0] - t0) / 6\n",
    "    r01 = (robot_points[1][1]  - t1) / 6\n",
    "    print(r01)\n",
    "    r10 = (robot_points[2][0] - t0) / 4\n",
    "    r11 = (robot_points[2][1] - t1) / 4\n",
    "    obj_to_robot_rot_mtx = np.array([[r00, r01], [r10, r11]])\n",
    "    robot_to_obj_rot_mtx = np.linalg.inv(obj_to_robot_rot_mtx)\n",
    "    print(t0)\n",
    "    print(t1)\n",
    "    # tvec_obj_to_robot = np.array([[t0 * r00 + t1 * r01], [t0 * r10 + t1 * r11]])\n",
    "    tvec_obj_to_robot = np.array([[t0], [t1]])\n",
    "    tvec_robot_to_obj = np.array([[-t0 * robot_to_obj_rot_mtx[0][0] - t1 * robot_to_obj_rot_mtx[0][1]],\n",
    "                                 [-t0 * robot_to_obj_rot_mtx[1][0] - t1 * robot_to_obj_rot_mtx[1][1]]])\n",
    "    obj_to_robot_mtx = np.concatenate((np.concatenate((obj_to_robot_rot_mtx, tvec_obj_to_robot), axis=1), [[0, 0, 1]]), axis=0)    \n",
    "    robot_to_obj_mtx = np.concatenate((np.concatenate((robot_to_obj_rot_mtx, tvec_robot_to_obj), axis=1), [[0, 0, 1]]), axis=0)\n",
    "    return (robot_to_obj_mtx, obj_to_robot_mtx)\n",
    "\n",
    "# robot_to_obj_mtx, obj_to_robot_mtx = calibrateRobotTransformation(((40, 400), (202, 400), (40,292.15)))\n",
    "robot_to_obj_mtx, obj_to_robot_mtx = calibrateRobotTransformation(((40, 400), (202, 400), (40,292.15)))\n",
    "print(robot_to_obj_mtx)\n",
    "print(obj_to_robot_mtx)\n",
    "\n",
    "# def rigidTransformPoint(point, transform_mtx):\n",
    "#     '''\n",
    "#     Transform 3d homogeneous point (shape (3x1)) with passed in rigid transform matrix\n",
    "#     '''\n",
    "#     return np.dot\n",
    "    \n",
    "print(np.dot(robot_to_obj_mtx, np.array([[202, 292.15, 1]]).transpose()))\n",
    "print(np.dot(obj_to_robot_mtx, np.array([[3, 3, 1]]).transpose()))"
   ]
  },
  {
   "cell_type": "code",
   "execution_count": null,
   "metadata": {},
   "outputs": [
    {
     "name": "stdout",
     "output_type": "stream",
     "text": [
      "(3, 1, 2)\n",
      "[[ 1.07907982]\n",
      " [-0.09035879]]\n",
      "pred_robot: [[  69.13515509]\n",
      " [ 402.43629891]\n",
      " [   1.        ]]\n",
      "Prediction: [[  69.13515509]\n",
      " [ 402.43629891]\n",
      " [   0.        ]]\n",
      "[[ 0.01956457]\n",
      " [-0.06255973]]\n",
      "pred_robot: [[  40.52824338]\n",
      " [ 401.68676665]\n",
      " [   1.        ]]\n",
      "Prediction: [[  40.52824338]\n",
      " [ 401.68676665]\n",
      " [   0.        ]]\n",
      "[[ 0.01956457]\n",
      " [-0.06255973]]\n",
      "pred_robot: [[  40.52824338]\n",
      " [ 401.68676665]\n",
      " [   1.        ]]\n",
      "Prediction: [[  40.52824338]\n",
      " [ 401.68676665]\n",
      " [   0.        ]]\n",
      "[[  2.76053065]\n",
      " [ 13.62016905]]\n",
      "pred_robot: [[ 114.53432765]\n",
      " [  32.76619194]\n",
      " [   1.        ]]\n",
      "Prediction: [[ 114.53432765]\n",
      " [  32.76619194]\n",
      " [   0.        ]]\n",
      "[[ 5.12037919]\n",
      " [ 9.92000587]]\n",
      "pred_robot: [[ 178.25023809]\n",
      " [ 132.53184183]\n",
      " [   1.        ]]\n",
      "Prediction: [[ 178.25023809]\n",
      " [ 132.53184183]\n",
      " [   0.        ]]\n"
     ]
    }
   ],
   "source": [
    "cv2.namedWindow('img')\n",
    "cv2.setMouseCallback('img', getLocations)\n",
    "\n",
    "#for fname in glob.glob('checkerboard_images/*.jpg'):\n",
    "for fname in ['checkerboard_images/img21.jpg']:\n",
    "    img = cv2.imread(fname)\n",
    "    gray = cv2.cvtColor(img,cv2.COLOR_BGR2GRAY)\n",
    "    ret, corners = cv2.findChessboardCorners(gray, (7,5),None)\n",
    "\n",
    "    if ret == True:\n",
    "        corners2 = cv2.cornerSubPix(gray,corners,(11,11),(-1,-1),criteria)\n",
    "#         print(corners2)\n",
    "#         print(objp)\n",
    "\n",
    "        # Find the rotation and translation vectors.\n",
    "        #_, rvecs, tvecs, inliers = cv2.solvePnPRansac(objp, corners2, mtx, None)\n",
    "        _, rvecs, tvecs, inliers = cv2.solvePnPRansac(objp, corners2, mtx, dist)\n",
    "\n",
    "        # project 3D points to image plane\n",
    "        imgpts, jac = cv2.projectPoints(axis, rvecs, tvecs, mtx, dist)\n",
    "\n",
    "        img = draw(img,corners2,imgpts)\n",
    "        print(imgpts.shape)\n",
    "        cv2.drawChessboardCorners(img, (7,5), corners2,ret)\n",
    "        cv2.imshow('img',img)\n",
    "        k = cv2.waitKey(0) & 0xff\n",
    "        if k == 's':\n",
    "            cv2.imwrite(fname[:6]+'.png', img)\n",
    "\n",
    "cv2.destroyAllWindows()"
   ]
  },
  {
   "cell_type": "code",
   "execution_count": null,
   "metadata": {
    "collapsed": true
   },
   "outputs": [],
   "source": []
  }
 ],
 "metadata": {
  "kernelspec": {
   "display_name": "Python 3",
   "language": "python",
   "name": "python3"
  },
  "language_info": {
   "codemirror_mode": {
    "name": "ipython",
    "version": 3
   },
   "file_extension": ".py",
   "mimetype": "text/x-python",
   "name": "python",
   "nbconvert_exporter": "python",
   "pygments_lexer": "ipython3",
   "version": "3.5.3"
  }
 },
 "nbformat": 4,
 "nbformat_minor": 2
}
