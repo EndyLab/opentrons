{
 "cells": [
  {
   "cell_type": "code",
   "execution_count": 1,
   "metadata": {
    "collapsed": false
   },
   "outputs": [],
   "source": [
    "from opentrons import robot, containers, instruments\n",
    "\n",
    "tiprack = containers.load('tiprack-200ul', 'A1')\n",
    "plate = containers.load('96-flat', 'B2')\n",
    "ddH2O = containers.load('point', 'B3')\n",
    "trash = containers.load('point', 'C3', 'holywastedplasticbatman')"
   ]
  },
  {
   "cell_type": "code",
   "execution_count": 2,
   "metadata": {
    "collapsed": true
   },
   "outputs": [],
   "source": [
    "p200 = instruments.Pipette(\n",
    "    axis='b',\n",
    "    max_volume=200,\n",
    "    min_volume=20,\n",
    "    tip_racks=[tiprack],\n",
    "    trash_container=trash,\n",
    "    channels=8,\n",
    "    name='p200-8'\n",
    ")"
   ]
  },
  {
   "cell_type": "code",
   "execution_count": 8,
   "metadata": {
    "collapsed": true
   },
   "outputs": [],
   "source": [
    "robot.home(enqueue=True)\n",
    "\n",
    "volume = 200 # ul\n",
    "dilution_frac = 1e-1\n",
    "rows = plate.rows[:5]\n",
    "\n",
    "p200.pick_up_tip()\n",
    "for row in rows[1:]:\n",
    "    p200.aspirate(volume * (1-dilution_frac), ddH2O)\n",
    "    p200.dispense(row)\n",
    "p200.drop_tip()\n",
    "\n",
    "for source, dest in zip(rows, rows[1:]):\n",
    "    p200.pick_up_tip()\n",
    "    p200.mix(3, 200, source)\n",
    "    p200.aspirate(volume * dilution_frac, source)\n",
    "    p200.dispense(dest).blow_out().touch_tip()\n",
    "    p200.drop_tip()"
   ]
  }
 ],
 "metadata": {
  "anaconda-cloud": {},
  "kernelspec": {
   "display_name": "Python [default]",
   "language": "python",
   "name": "python3"
  },
  "language_info": {
   "codemirror_mode": {
    "name": "ipython",
    "version": 3
   },
   "file_extension": ".py",
   "mimetype": "text/x-python",
   "name": "python",
   "nbconvert_exporter": "python",
   "pygments_lexer": "ipython3",
   "version": "3.5.2"
  }
 },
 "nbformat": 4,
 "nbformat_minor": 1
}
