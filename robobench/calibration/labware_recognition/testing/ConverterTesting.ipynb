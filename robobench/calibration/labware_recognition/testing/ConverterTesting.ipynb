{
 "cells": [
  {
   "cell_type": "code",
   "execution_count": 1,
   "metadata": {
    "collapsed": true
   },
   "outputs": [],
   "source": [
    "import cv2\n",
    "import RobotCoordinateConverter\n",
    "from opentrons import robot\n",
    "import imutils"
   ]
  },
  {
   "cell_type": "code",
   "execution_count": 4,
   "metadata": {
    "collapsed": true
   },
   "outputs": [],
   "source": [
    "def opentrons_connect():\n",
    "        try:\n",
    "            # physical robot\n",
    "            ports = robot.get_serial_ports_list()\n",
    "            print(ports)\n",
    "            robot.connect(ports[0])\n",
    "        except IndexError:\n",
    "            # simulator\n",
    "            robot.connect('Virtual Smoothie')\n",
    "            robot.home(now=True)\n",
    "\n",
    "        robot.home(now=True)\n",
    "        #pipette = instruments.Pipette(axis='a')"
   ]
  },
  {
   "cell_type": "code",
   "execution_count": 5,
   "metadata": {},
   "outputs": [
    {
     "name": "stdout",
     "output_type": "stream",
     "text": [
      "['/dev/tty.usbmodem1411']\n"
     ]
    }
   ],
   "source": [
    "opentrons_connect()"
   ]
  },
  {
   "cell_type": "code",
   "execution_count": 6,
   "metadata": {},
   "outputs": [
    {
     "name": "stdout",
     "output_type": "stream",
     "text": [
      "In calibrate\n",
      "corner for draw: (305.43439, 147.43123)\n"
     ]
    },
    {
     "data": {
      "text/plain": [
       "True"
      ]
     },
     "execution_count": 6,
     "metadata": {},
     "output_type": "execute_result"
    }
   ],
   "source": [
    "converter = RobotCoordinateConverter.RobotCoordinateConverter()\n",
    "img = cv2.imread('VisionTestingImages/checkerboardimg3.jpg')\n",
    "converter.calibrate(img)"
   ]
  },
  {
   "cell_type": "code",
   "execution_count": 10,
   "metadata": {
    "collapsed": true
   },
   "outputs": [],
   "source": [
    "def movecallback(event, x, y, flags, param):\n",
    "    if event == cv2.EVENT_LBUTTONUP:\n",
    "        pixel = (x,y)\n",
    "        print(\"Pixel: {}\".format(pixel))\n",
    "        robot_point = converter.pixelToRobot(pixel, converter.checkerboard_z)\n",
    "        print(\"Robot point: {}\".format(robot_point))\n",
    "        robot.move_head(x=robot_point[0], y=robot_point[1], z=robot_point[2])"
   ]
  },
  {
   "cell_type": "code",
   "execution_count": 8,
   "metadata": {
    "collapsed": true
   },
   "outputs": [],
   "source": [
    "camera = cv2.VideoCapture(0)"
   ]
  },
  {
   "cell_type": "code",
   "execution_count": 7,
   "metadata": {
    "collapsed": true
   },
   "outputs": [],
   "source": []
  },
  {
   "cell_type": "code",
   "execution_count": 14,
   "metadata": {},
   "outputs": [
    {
     "name": "stdout",
     "output_type": "stream",
     "text": [
      "Pixel: (505, 295)\n",
      "checkerboard_z: -43\n",
      "object_to_robot_scale: 26.5\n",
      "obj_z: -0.0\n",
      "Prediction: [[ 242.36954655]\n",
      " [ 248.44523045]\n",
      " [ -43.        ]]\n",
      "Robot point: (242.36954654989469, 248.44523044868222, -43.0)\n",
      "Pixel: (505, 244)\n",
      "checkerboard_z: -43\n",
      "object_to_robot_scale: 26.5\n",
      "obj_z: -0.0\n",
      "Prediction: [[ 243.06281084]\n",
      " [ 299.38393723]\n",
      " [ -43.        ]]\n",
      "Robot point: (243.06281084467679, 299.38393723436388, -43.0)\n",
      "Pixel: (607, 397)\n",
      "checkerboard_z: -43\n",
      "object_to_robot_scale: 26.5\n",
      "obj_z: -0.0\n",
      "Prediction: [[ 344.29120784]\n",
      " [ 145.55042995]\n",
      " [ -43.        ]]\n",
      "Robot point: (344.29120784213825, 145.55042994508537, -43.0)\n"
     ]
    }
   ],
   "source": [
    "cv2.namedWindow(\"frame\")\n",
    "cv2.setMouseCallback(\"frame\", movecallback)\n",
    "_, frame = camera.read()\n",
    "frame = imutils.resize(frame, width=1000)\n",
    "cv2.imshow(\"frame\", frame)\n",
    "cv2.waitKey(0)\n",
    "cv2.destroyAllWindows()"
   ]
  },
  {
   "cell_type": "code",
   "execution_count": 13,
   "metadata": {
    "collapsed": true
   },
   "outputs": [],
   "source": [
    "robot.home(now=True)"
   ]
  },
  {
   "cell_type": "code",
   "execution_count": null,
   "metadata": {
    "collapsed": true
   },
   "outputs": [],
   "source": []
  }
 ],
 "metadata": {
  "kernelspec": {
   "display_name": "Python 3",
   "language": "python",
   "name": "python3"
  },
  "language_info": {
   "codemirror_mode": {
    "name": "ipython",
    "version": 3
   },
   "file_extension": ".py",
   "mimetype": "text/x-python",
   "name": "python",
   "nbconvert_exporter": "python",
   "pygments_lexer": "ipython3",
   "version": "3.5.3"
  }
 },
 "nbformat": 4,
 "nbformat_minor": 2
}
